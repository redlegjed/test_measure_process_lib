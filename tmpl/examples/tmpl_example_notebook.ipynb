{
 "cells": [
  {
   "attachments": {},
   "cell_type": "markdown",
   "metadata": {},
   "source": [
    "# Using TMPL in a Jupyter notebook"
   ]
  },
  {
   "cell_type": "code",
   "execution_count": 1,
   "metadata": {},
   "outputs": [
    {
     "name": "stdout",
     "output_type": "stream",
     "text": [
      "/home/redlegjed/Documents/Python/Projects/test_measure_process_lib\n"
     ]
    }
   ],
   "source": [
    "# Setup importing tmp if it has not been installed using pip\n",
    "import pathlib\n",
    "import os\n",
    "import sys\n",
    "\n",
    "BASEPATH = pathlib.Path(os.getcwd()).parent.parent\n",
    "print(BASEPATH)\n",
    "sys.path.append(str(BASEPATH))\n",
    "sys.path.append(str(BASEPATH/'unit_test'))\n",
    "\n",
    "\n",
    "import tmpl"
   ]
  },
  {
   "attachments": {},
   "cell_type": "markdown",
   "metadata": {},
   "source": [
    "# Example test sequence"
   ]
  },
  {
   "cell_type": "code",
   "execution_count": 2,
   "metadata": {},
   "outputs": [],
   "source": [
    "# Import example test sequence\n",
    "import example_resistor_test"
   ]
  },
  {
   "cell_type": "code",
   "execution_count": 3,
   "metadata": {},
   "outputs": [],
   "source": [
    "\n",
    "# Define resistor model\n",
    "res1 = example_resistor_test.ResistorModel(100,tolerance_pc=1.0)\n",
    "\n",
    "# Setup resources\n",
    "resources = {\n",
    "    'set_temperature':example_resistor_test.set_temperature,\n",
    "    'set_humidity': example_resistor_test.set_humidity,\n",
    "    'voltage_supply':example_resistor_test.VoltageSupply(),\n",
    "    'resistor':res1,\n",
    "    }\n",
    "\n",
    "config_custom = {'param1':1,'param2':2}\n",
    "\n",
    "# Create and run the test sequence\n",
    "test = example_resistor_test.ExampleTestSequence(resources,config=config_custom)"
   ]
  },
  {
   "attachments": {},
   "cell_type": "markdown",
   "metadata": {},
   "source": [
    "## HTML representation\n",
    "\n",
    "TMPL TestManager objects have an HTML representation for Jupyter notebooks"
   ]
  },
  {
   "cell_type": "code",
   "execution_count": 4,
   "metadata": {},
   "outputs": [
    {
     "data": {
      "text/html": [
       "<h1>TestManager[ ExampleResistorTest ]</h1>\n",
       "<h2>Setup Conditions:</h2>\n",
       "<ul>\n",
       "<li>temperature_degC</li>\n",
       "<li>humidity_pc</li>\n",
       "</ul>\n",
       "<h2>Measurements:</h2>\n",
       "<ul>\n",
       "<li>Timestamp</li>\n",
       "<li>TurnOn</li>\n",
       "<li>Stabilise</li>\n",
       "<li>VoltageSweep</li>\n",
       "<li>TurnOff</li>\n",
       "</ul>"
      ],
      "text/plain": [
       "TestManager[ExampleResistorTest]\n",
       "* Conditions:\n",
       "\tIteration\n",
       "\ttemperature_degC\n",
       "\thumidity_pc\n",
       "* Measurements:\n",
       "\tTimestamp\n",
       "\tTurnOn\n",
       "\tStabilise\n",
       "\tVoltageSweep\n",
       "\tTurnOff"
      ]
     },
     "execution_count": 4,
     "metadata": {},
     "output_type": "execute_result"
    }
   ],
   "source": [
    "test"
   ]
  }
 ],
 "metadata": {
  "kernelspec": {
   "display_name": "graphics3d_2",
   "language": "python",
   "name": "python3"
  },
  "language_info": {
   "codemirror_mode": {
    "name": "ipython",
    "version": 3
   },
   "file_extension": ".py",
   "mimetype": "text/x-python",
   "name": "python",
   "nbconvert_exporter": "python",
   "pygments_lexer": "ipython3",
   "version": "3.11.0"
  },
  "orig_nbformat": 4,
  "vscode": {
   "interpreter": {
    "hash": "6b1c71c73f614470a56d12e245179ac5ce373b50de4b7a7cded2dd302ede1712"
   }
  }
 },
 "nbformat": 4,
 "nbformat_minor": 2
}
